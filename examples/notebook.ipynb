{
 "cells": [
  {
   "cell_type": "markdown",
   "id": "3c91428e",
   "metadata": {},
   "source": [
    "# PyPEEC with Jupyter Notebook\n",
    "\n",
    "* Run the PyPEEC examples with a Jupyter notebook.\n",
    "* For the 2D plots, Matplotlib is used.\n",
    "* For the 3D plots, Trame and PyVista are used.\n",
    "\n",
    "> (c) Thomas Guillod - Dartmouth College"
   ]
  },
  {
   "cell_type": "code",
   "execution_count": null,
   "id": "62e9d2db",
   "metadata": {},
   "outputs": [],
   "source": [
    "import pickle\n",
    "import os.path\n",
    "from pypeec import main"
   ]
  },
  {
   "cell_type": "code",
   "execution_count": null,
   "id": "a5219022",
   "metadata": {},
   "outputs": [],
   "source": [
    "# name of the considered example\n",
    "#   voxel_slab\n",
    "#   voxel_transformer\n",
    "#   voxel_core\n",
    "#   voxel_logo\n",
    "#   stl_inductor_air\n",
    "#   stl_inductor_core\n",
    "#   stl_transformer\n",
    "#   png_inductor_spiral\n",
    "#   png_inductor_gap\n",
    "#   png_shield\n",
    "#   png_busbar\n",
    "#   png_wire\n",
    "#   png_pcb\n",
    "EXAMPLE_NAME = \"voxel_core\"\n",
    "\n",
    "# path of the examples\n",
    "PATH_ROOT = \".\""
   ]
  },
  {
   "cell_type": "code",
   "execution_count": null,
   "id": "511a33aa",
   "metadata": {},
   "outputs": [],
   "source": [
    "# get the example filenames\n",
    "file_mesher = os.path.join(PATH_ROOT, EXAMPLE_NAME, \"mesher.yaml\")\n",
    "file_voxel = os.path.join(PATH_ROOT, EXAMPLE_NAME, \"voxel.pck\")\n",
    "file_point = os.path.join(PATH_ROOT, EXAMPLE_NAME, \"point.yaml\")\n",
    "file_problem = os.path.join(PATH_ROOT, EXAMPLE_NAME, \"problem.yaml\")\n",
    "file_solution = os.path.join(PATH_ROOT, EXAMPLE_NAME, \"solution.pck\")\n",
    "\n",
    "# get the configuration filenames\n",
    "file_tolerance = os.path.join(PATH_ROOT, \"config\", \"tolerance.json\")\n",
    "file_viewer = os.path.join(PATH_ROOT, \"config\", \"viewer.json\")\n",
    "file_plotter = os.path.join(PATH_ROOT, \"config\", \"plotter.json\")"
   ]
  },
  {
   "cell_type": "markdown",
   "id": "98ca3252",
   "metadata": {},
   "source": [
    "## Run the Mesher"
   ]
  },
  {
   "cell_type": "code",
   "execution_count": null,
   "id": "2baa6633",
   "metadata": {
    "scrolled": false
   },
   "outputs": [],
   "source": [
    "# run the mesher\n",
    "(status, ex) = main.run_mesher(file_mesher, file_voxel)\n",
    "\n",
    "# load the results\n",
    "with open(file_voxel, \"rb\") as fid:\n",
    "    data_voxel = pickle.load(fid)"
   ]
  },
  {
   "cell_type": "markdown",
   "id": "2179815d",
   "metadata": {},
   "source": [
    "## Run the Viewer"
   ]
  },
  {
   "cell_type": "code",
   "execution_count": null,
   "id": "c6210949",
   "metadata": {},
   "outputs": [],
   "source": [
    "(status, ex) = main.run_viewer(file_voxel, file_point, file_viewer)"
   ]
  },
  {
   "cell_type": "markdown",
   "id": "f7ee7837",
   "metadata": {},
   "source": [
    "## Run the Solver"
   ]
  },
  {
   "cell_type": "code",
   "execution_count": null,
   "id": "3cc2ba2b",
   "metadata": {},
   "outputs": [],
   "source": [
    "# run the solver\n",
    "(status, ex) = main.run_solver(file_voxel, file_problem, file_tolerance, file_solution)\n",
    "\n",
    "# load the results\n",
    "with open(file_solution, \"rb\") as fid:\n",
    "    data_solution = pickle.load(fid)"
   ]
  },
  {
   "cell_type": "markdown",
   "id": "a721eaa7",
   "metadata": {},
   "source": [
    "## Run the Plotter"
   ]
  },
  {
   "cell_type": "code",
   "execution_count": null,
   "id": "c020abb3",
   "metadata": {
    "scrolled": false
   },
   "outputs": [],
   "source": [
    "(status, ex) = main.run_plotter(file_solution, file_point, file_plotter)"
   ]
  }
 ],
 "metadata": {
  "kernelspec": {
   "display_name": "Python 3 (ipykernel)",
   "language": "python",
   "name": "python3"
  },
  "language_info": {
   "codemirror_mode": {
    "name": "ipython",
    "version": 3
   },
   "file_extension": ".py",
   "mimetype": "text/x-python",
   "name": "python",
   "nbconvert_exporter": "python",
   "pygments_lexer": "ipython3",
   "version": "3.10.6"
  }
 },
 "nbformat": 4,
 "nbformat_minor": 5
}
