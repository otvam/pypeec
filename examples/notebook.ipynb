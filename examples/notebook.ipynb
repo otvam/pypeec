{
 "cells": [
  {
   "cell_type": "markdown",
   "id": "3c91428e",
   "metadata": {},
   "source": [
    "# PyPEEC within Jupyter Notebook\n",
    "\n",
    "> Run the PyPEEC examples within a Jupyter notebook.\n",
    "\n",
    "> For the plots, Matplotlib, PyVista, IPyWidgets, and Trame are used.\n",
    "\n",
    "> Thomas Guillod - Dartmouth College\n",
    ">\n",
    "> Mozilla Public License Version 2.0"
   ]
  },
  {
   "cell_type": "markdown",
   "id": "1eda7f2c",
   "metadata": {},
   "source": [
    "## Setup"
   ]
  },
  {
   "cell_type": "code",
   "execution_count": null,
   "id": "62e9d2db",
   "metadata": {},
   "outputs": [],
   "source": [
    "# import modules\n",
    "import os\n",
    "import os.path\n",
    "from pypeec import main\n",
    "from pypeec import io\n",
    "\n",
    "# path of the examples\n",
    "PATH_ROOT = \".\"\n",
    "\n",
    "# name of the configuration folder\n",
    "FOLDER_CONFIG = \"config\"\n",
    "\n",
    "# name of the different examples\n",
    "#   tutorial\n",
    "#   examples_voxel\n",
    "#       examples_voxel/slab\n",
    "#       examples_voxel/transformer\n",
    "#       examples_voxel/core\n",
    "#       examples_voxel/logo\n",
    "#   examples_shape\n",
    "#       examples_shape/busbar\n",
    "#       examples_shape/wire\n",
    "#       examples_shape/trace\n",
    "#       examples_shape/coplanar\n",
    "#   examples_stl\n",
    "#       examples_stl/inductor_air\n",
    "#       examples_stl/inductor_core\n",
    "#       examples_stl/transformer\n",
    "#   examples_png\n",
    "#       examples_png/inductor_spiral\n",
    "#       examples_png/inductor_gap\n",
    "#       examples_png/shield\n",
    "#       examples_png/gerber\n",
    "\n",
    "# name of the selected example\n",
    "FOLDER_EXAMPLE = \"tutorial\"\n",
    "\n",
    "# get the example filenames\n",
    "folder_out = os.path.join(PATH_ROOT, FOLDER_EXAMPLE)\n",
    "file_mesher = os.path.join(PATH_ROOT, FOLDER_EXAMPLE, \"geometry.yaml\")\n",
    "file_problem = os.path.join(PATH_ROOT, FOLDER_EXAMPLE, \"problem.yaml\")\n",
    "file_voxel = os.path.join(PATH_ROOT, FOLDER_EXAMPLE, \"voxel.gz\")\n",
    "file_solution = os.path.join(PATH_ROOT, FOLDER_EXAMPLE, \"solution.gz\")\n",
    "\n",
    "# get the configuration filenames\n",
    "file_tolerance = os.path.join(PATH_ROOT, FOLDER_CONFIG, \"tolerance.yaml\")\n",
    "file_viewer = os.path.join(PATH_ROOT, FOLDER_CONFIG, \"viewer.yaml\")\n",
    "file_plotter = os.path.join(PATH_ROOT, FOLDER_CONFIG, \"plotter.yaml\")\n",
    "\n",
    "# check the output folder and input files\n",
    "assert os.path.isdir(folder_out), \"output folder does not exist\"\n",
    "assert os.path.isfile(file_mesher), \"mesher file is not found\"\n",
    "assert os.path.isfile(file_problem), \"problem file is not found\"\n",
    "assert os.path.isfile(file_tolerance), \"tolerance file is not found\"\n",
    "assert os.path.isfile(file_viewer), \"viewer file is not found\"\n",
    "assert os.path.isfile(file_plotter), \"plotter file is not found\""
   ]
  },
  {
   "cell_type": "markdown",
   "id": "98ca3252",
   "metadata": {},
   "source": [
    "## Run the Mesher"
   ]
  },
  {
   "cell_type": "code",
   "execution_count": null,
   "id": "2baa6633",
   "metadata": {},
   "outputs": [],
   "source": [
    "# run the mesher\n",
    "main.run_mesher_file(\n",
    "    file_mesher, \n",
    "    file_voxel,\n",
    ")\n",
    "\n",
    "# load the results\n",
    "data_voxel = io.load_data(file_voxel)"
   ]
  },
  {
   "cell_type": "markdown",
   "id": "2179815d",
   "metadata": {},
   "source": [
    "## Run the Viewer"
   ]
  },
  {
   "cell_type": "code",
   "execution_count": null,
   "id": "c6210949",
   "metadata": {},
   "outputs": [],
   "source": [
    "# list of plots to be displayed\n",
    "tag_plot = [\"domain\", \"connection\"]\n",
    "\n",
    "# run the viewer\n",
    "main.run_viewer_file(\n",
    "    file_voxel, \n",
    "    file_viewer, \n",
    "    tag_plot=tag_plot,\n",
    "    plot_mode=\"nb\",\n",
    ")"
   ]
  },
  {
   "cell_type": "markdown",
   "id": "f7ee7837",
   "metadata": {},
   "source": [
    "## Run the Solver"
   ]
  },
  {
   "cell_type": "code",
   "execution_count": null,
   "id": "3cc2ba2b",
   "metadata": {},
   "outputs": [],
   "source": [
    "# run the solver\n",
    "main.run_solver_file(\n",
    "    file_voxel, \n",
    "    file_problem, \n",
    "    file_tolerance, \n",
    "    file_solution,\n",
    ")\n",
    "\n",
    "# load the results\n",
    "data_solution = io.load_data(file_solution)"
   ]
  },
  {
   "cell_type": "markdown",
   "id": "a721eaa7",
   "metadata": {},
   "source": [
    "## Run the Plotter"
   ]
  },
  {
   "cell_type": "code",
   "execution_count": null,
   "id": "c020abb3",
   "metadata": {},
   "outputs": [],
   "source": [
    "# list of plots to be displayed\n",
    "tag_plot = [\"V_c_abs\", \"J_c_norm\", \"H_norm\", \"residuum\"]\n",
    "\n",
    "# run the plotter\n",
    "main.run_plotter_file(\n",
    "    file_solution, \n",
    "    file_plotter, \n",
    "    tag_plot=tag_plot,\n",
    "    plot_mode=\"nb\",\n",
    ")"
   ]
  }
 ],
 "metadata": {
  "kernelspec": {
   "display_name": "Python 3 (ipykernel)",
   "language": "python",
   "name": "python3"
  },
  "language_info": {
   "codemirror_mode": {
    "name": "ipython",
    "version": 3
   },
   "file_extension": ".py",
   "mimetype": "text/x-python",
   "name": "python",
   "nbconvert_exporter": "python",
   "pygments_lexer": "ipython3",
   "version": "3.10.13"
  }
 },
 "nbformat": 4,
 "nbformat_minor": 5
}
