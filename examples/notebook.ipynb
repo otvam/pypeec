{
 "cells": [
  {
   "cell_type": "markdown",
   "id": "3c91428e",
   "metadata": {},
   "source": [
    "# PyPEEC with Jupyter Notebook\n",
    "\n",
    "> Run the PyPEEC examples with a Jupyter notebook.\n",
    ">\n",
    "> For the 2D plots, Matplotlib is used.\n",
    ">\n",
    "> For the 3D plots, PyVista is used.\n",
    "\n",
    "> Thomas Guillod - Dartmouth College\n",
    ">\n",
    "> Mozilla Public License Version 2.0"
   ]
  },
  {
   "cell_type": "markdown",
   "id": "1eda7f2c",
   "metadata": {},
   "source": [
    "## Setup"
   ]
  },
  {
   "cell_type": "code",
   "execution_count": null,
   "id": "62e9d2db",
   "metadata": {},
   "outputs": [],
   "source": [
    "# import modules\n",
    "import os\n",
    "import os.path\n",
    "from pypeec import main\n",
    "from pypeec import io"
   ]
  },
  {
   "cell_type": "code",
   "execution_count": null,
   "id": "23388997",
   "metadata": {},
   "outputs": [],
   "source": [
    "# current directory should be the PyPEEC \"examples\" directory\n",
    "print(os.getcwd())"
   ]
  },
  {
   "cell_type": "code",
   "execution_count": null,
   "id": "a5219022",
   "metadata": {},
   "outputs": [],
   "source": [
    "# path of the examples\n",
    "PATH_ROOT = \".\"\n",
    "\n",
    "# name of the configuration folder\n",
    "FOLDER_CONFIG = \"config\"\n",
    "\n",
    "# name of the considered example\n",
    "#   examples_voxel\n",
    "#       slab\n",
    "#       transformer\n",
    "#       core\n",
    "#       logo\n",
    "#   examples_shape\n",
    "#       busbar\n",
    "#       wire\n",
    "#       trace\n",
    "#       coplanar\n",
    "#   examples_stl\n",
    "#       inductor_air\n",
    "#       inductor_core\n",
    "#       transformer\n",
    "#   examples_png\n",
    "#       inductor_spiral\n",
    "#       inductor_gap\n",
    "#       shield\n",
    "#       gerber\n",
    "FOLDER_NAME = \"examples_voxel\"\n",
    "EXAMPLE_NAME = \"core\""
   ]
  },
  {
   "cell_type": "code",
   "execution_count": null,
   "id": "511a33aa",
   "metadata": {},
   "outputs": [],
   "source": [
    "# get the example filenames\n",
    "file_mesher = os.path.join(PATH_ROOT, FOLDER_NAME, EXAMPLE_NAME, \"geometry.yaml\")\n",
    "file_point = os.path.join(PATH_ROOT, FOLDER_NAME, EXAMPLE_NAME, \"point.yaml\")\n",
    "file_problem = os.path.join(PATH_ROOT, FOLDER_NAME, EXAMPLE_NAME, \"problem.yaml\")\n",
    "file_voxel = os.path.join(PATH_ROOT, FOLDER_NAME, EXAMPLE_NAME, \"voxel.pck\")\n",
    "file_solution = os.path.join(PATH_ROOT, FOLDER_NAME, EXAMPLE_NAME, \"solution.pck\")\n",
    "\n",
    "# get the configuration filenames\n",
    "file_tolerance = os.path.join(PATH_ROOT, FOLDER_CONFIG, \"tolerance.yaml\")\n",
    "file_viewer = os.path.join(PATH_ROOT, FOLDER_CONFIG, \"viewer.yaml\")\n",
    "file_plotter = os.path.join(PATH_ROOT, FOLDER_CONFIG, \"plotter.yaml\")"
   ]
  },
  {
   "cell_type": "markdown",
   "id": "98ca3252",
   "metadata": {},
   "source": [
    "## Run the Mesher"
   ]
  },
  {
   "cell_type": "code",
   "execution_count": null,
   "id": "2baa6633",
   "metadata": {},
   "outputs": [],
   "source": [
    "# run the mesher\n",
    "(status, ex) = main.run_mesher_file(\n",
    "    file_mesher, \n",
    "    file_voxel,\n",
    ")\n",
    "\n",
    "# load the results\n",
    "data_voxel = io.load_pickle(file_voxel)"
   ]
  },
  {
   "cell_type": "markdown",
   "id": "2179815d",
   "metadata": {},
   "source": [
    "## Run the Viewer"
   ]
  },
  {
   "cell_type": "code",
   "execution_count": null,
   "id": "c6210949",
   "metadata": {},
   "outputs": [],
   "source": [
    "# list of plots to be displayed\n",
    "tag_plot = [\"domain\", \"connection\"]\n",
    "\n",
    "# run the viewer\n",
    "(status, ex) = main.run_viewer_file(\n",
    "    file_voxel, \n",
    "    file_point, \n",
    "    file_viewer, \n",
    "    tag_plot=tag_plot,\n",
    "    plot_mode=\"nb\",\n",
    ")"
   ]
  },
  {
   "cell_type": "markdown",
   "id": "f7ee7837",
   "metadata": {},
   "source": [
    "## Run the Solver"
   ]
  },
  {
   "cell_type": "code",
   "execution_count": null,
   "id": "3cc2ba2b",
   "metadata": {},
   "outputs": [],
   "source": [
    "# run the solver\n",
    "(status, ex) = main.run_solver_file(\n",
    "    file_voxel, \n",
    "    file_problem, \n",
    "    file_tolerance, \n",
    "    file_solution,\n",
    ")\n",
    "\n",
    "# load the results\n",
    "data_solution = io.load_pickle(file_solution)"
   ]
  },
  {
   "cell_type": "markdown",
   "id": "a721eaa7",
   "metadata": {},
   "source": [
    "## Run the Plotter"
   ]
  },
  {
   "cell_type": "code",
   "execution_count": null,
   "id": "c020abb3",
   "metadata": {},
   "outputs": [],
   "source": [
    "# list of plots to be displayed\n",
    "tag_sweep = [\"sim_ac\"]\n",
    "tag_plot = [\"material\", \"V_c_abs\", \"convergence\"]\n",
    "\n",
    "# run the plotter\n",
    "(status, ex) = main.run_plotter_file(\n",
    "    file_solution, \n",
    "    file_point, \n",
    "    file_plotter, \n",
    "    tag_sweep=tag_sweep, \n",
    "    tag_plot=tag_plot,\n",
    "    plot_mode=\"nb\",\n",
    ")"
   ]
  }
 ],
 "metadata": {
  "kernelspec": {
   "display_name": "Python 3 (ipykernel)",
   "language": "python",
   "name": "python3"
  },
  "language_info": {
   "codemirror_mode": {
    "name": "ipython",
    "version": 3
   },
   "file_extension": ".py",
   "mimetype": "text/x-python",
   "name": "python",
   "nbconvert_exporter": "python",
   "pygments_lexer": "ipython3",
   "version": "3.10.12"
  }
 },
 "nbformat": 4,
 "nbformat_minor": 5
}
